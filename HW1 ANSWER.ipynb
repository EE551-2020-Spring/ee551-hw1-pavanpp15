{
 "cells": [
  {
   "cell_type": "code",
   "execution_count": 65,
   "metadata": {},
   "outputs": [
    {
     "name": "stdout",
     "output_type": "stream",
     "text": [
      "('EE551', 'Stevens', 'StevensStevensStevensStevensStevens', 35, 'Stevens is good', 'Stevens is awesome')\n",
      "(['stevens', 'is', 'awesome'], 'wesome', [5, 11, 38], [1, 10, 38], [['S', 83], ['t', 116], ['e', 101], ['v', 118], ['e', 101], ['n', 110], ['s', 115]])\n",
      "('apple', {'fruit': 'apple', 'quantity': 4, 'color': 'green'}, 'programmer', ['name', 'jobs', 'age'])\n"
     ]
    }
   ],
   "source": [
    "import math\n",
    "def numbers_and_strings():\n",
    "    # Assign a string \"EE551\" to a variable x\n",
    "    x = \"EE551\"\n",
    "    # Assign a string \"Stevens\" to a variable y\n",
    "    y = \"Stevens\"\n",
    "    # Repeat variable y 5 times\n",
    "    z = y*5\n",
    "    # What is the length of z?\n",
    "    length = len(z)\n",
    "    # Concatenate variable y with string \" is good\"\n",
    "    m = y + \" is good\"\n",
    "    # Replace \"good\" with \"awesome\" in variable m and assign it to a new variable n\n",
    "    n= m.replace('good','awesome')\n",
    "    return x, y, z, length, m, n\n",
    "def lists():\n",
    "    p = n.split(' ')\n",
    "    # Get all the items past the first of the third substring\n",
    "    r = p[2][1:]\n",
    "    # Create a 3 x 3 matrix as nested list such that\n",
    "    #   first row is [1, 4, 5]\n",
    "    #   second row is [6, 10, 11]\n",
    "    #   third row is [12, 17, 38]\n",
    "    A = [[1,4,5],[6,10,11],[12,17,38]]\n",
    "    # Collect the items in the last column of matrix A using list comprehension\n",
    "    c = [row[2] for row in A] \n",
    "    # Collect only the even items of the diagonal of matrix A using list comprehension\n",
    "    d = [A[i][i] for i in [0,1,2]]\n",
    "    # We can convert a single character to its underlying integer code (e.g., its ASCII byte value)\n",
    "    # by passing it to the built-in ord function. Generate a list of these integers to represent\n",
    "    # each character of the string \"Stevens\" using list comprehension.\n",
    "    o = [[i,ord(i)] for i in['S','t','e','v','e','n','s']]\n",
    "    return p, r, c, d, o\n",
    "def dictionaries():\n",
    "    # Create a dictionary that maps:\n",
    "    #   fruit => \"apple\"\n",
    "    #   quantity => 4\n",
    "    #   color => \"green\"\n",
    "    f = {'fruit':'apple','quantity':4,'color':'green'}\n",
    "    # Get the item in dictionary f that the key \"fruit\" maps to\n",
    "    a = f['fruit']\n",
    "    # Increase the quantity of f by 1\n",
    "    # IMPLEMENT IT HERE\n",
    "    f['quantity']+1\n",
    "    # Create a nested dictionary where:\n",
    "    #   name => {first_name => \"Grace\", last_name => \"Hopper\"} (a dictionary)\n",
    "    #   jobs => [\"scientist\", \"engineer\"] (a list)\n",
    "    #   age => 85\n",
    "    b = {'name':{'first_name':'Grace', 'Last_name':'Hopper'},'jobs':['scientist', 'engineer'],'age':85}\n",
    "    # Add \"programmer\" to the list of jobs Grace has\n",
    "    # IMPLEMENT IT HERE\n",
    "    b['jobs'].append('programmer')\n",
    "    # Get the third job Grace has that you recently added\n",
    "    p=b['jobs'][2]\n",
    "    # Use the sort() function to get sorted keys of amazing_grace in alphabetically ascending order\n",
    "    k = list(b.keys())\n",
    "    return a, f, p, k\n",
    "    \n",
    "    \n",
    "\n",
    "print(numbers_and_strings())\n",
    "print(lists())\n",
    "print(dictionaries())\n",
    "    \n",
    "    \n",
    "    "
   ]
  }
 ],
 "metadata": {
  "kernelspec": {
   "display_name": "Python 3",
   "language": "python",
   "name": "python3"
  },
  "language_info": {
   "codemirror_mode": {
    "name": "ipython",
    "version": 3
   },
   "file_extension": ".py",
   "mimetype": "text/x-python",
   "name": "python",
   "nbconvert_exporter": "python",
   "pygments_lexer": "ipython3",
   "version": "3.6.8"
  }
 },
 "nbformat": 4,
 "nbformat_minor": 4
}
